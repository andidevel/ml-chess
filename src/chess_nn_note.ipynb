{
 "cells": [
  {
   "cell_type": "markdown",
   "metadata": {},
   "source": [
    "Strongly based on:\n",
    "http://adventuresinmachinelearning.com/keras-tutorial-cnn-11-lines/"
   ]
  },
  {
   "cell_type": "code",
   "execution_count": 34,
   "metadata": {},
   "outputs": [],
   "source": [
    "import keras\n",
    "import numpy as np\n",
    "\n",
    "from keras.layers import (\n",
    "    Dense,\n",
    "    Flatten,\n",
    "    Conv2D,\n",
    "    MaxPooling2D\n",
    ")\n",
    "from keras.models import Sequential"
   ]
  },
  {
   "cell_type": "code",
   "execution_count": 25,
   "metadata": {
    "collapsed": true
   },
   "outputs": [],
   "source": [
    "IMG_DIM = 227\n",
    "LABELS = [\n",
    "    'bb',\n",
    "    'bk',\n",
    "    'bn',\n",
    "    'bp',\n",
    "    'bq',\n",
    "    'br',\n",
    "    'empty',\n",
    "    'wb',\n",
    "    'wk',\n",
    "    'wn',\n",
    "    'wp',\n",
    "    'wq',\n",
    "    'wr'\n",
    "]\n",
    "\n",
    "NUM_CLASSES = len(LABELS)\n",
    "BATCH_SIZE = 128\n",
    "EPOCHS = 10"
   ]
  },
  {
   "cell_type": "code",
   "execution_count": 26,
   "metadata": {
    "collapsed": true
   },
   "outputs": [],
   "source": [
    "class AccuracyHistory(keras.callbacks.Callback):\n",
    "    def on_train_begin(self, logs={}):\n",
    "        self.acc = []\n",
    "\n",
    "    def on_epoch_end(self, batch, logs={}):\n",
    "        self.acc.append(logs.get('acc'))"
   ]
  },
  {
   "cell_type": "code",
   "execution_count": 27,
   "metadata": {
    "collapsed": true
   },
   "outputs": [],
   "source": [
    "def make_model():\n",
    "    model = Sequential()\n",
    "    model.add(Conv2D(32, kernel_size=(7, 7), strides=(1, 1), activation='relu', input_shape=(IMG_DIM, IMG_DIM, 1)))\n",
    "    model.add(MaxPooling2D(pool_size=(2, 2), strides=(2, 2)))\n",
    "    model.add(Conv2D(64, kernel_size=(7, 7)))\n",
    "    model.add(MaxPooling2D(pool_size=(2, 2)))\n",
    "    model.add(Flatten())\n",
    "    model.add(Dense(1000, activation='relu'))\n",
    "    model.add(Dense(NUM_CLASSES, activation='softmax'))\n",
    "\n",
    "    model.compile(\n",
    "        loss=keras.losses.categorical_crossentropy,\n",
    "        optimizer=keras.optimizers.Adam(),\n",
    "        metrics=['accuracy']\n",
    "    )\n",
    "    return model\n"
   ]
  },
  {
   "cell_type": "code",
   "execution_count": 48,
   "metadata": {
    "collapsed": true
   },
   "outputs": [],
   "source": [
    "def prepare_samples(X, Y):\n",
    "    print('X shape: ', X.shape)\n",
    "    x = X.reshape(X.shape[0], IMG_DIM, IMG_DIM, 1).astype('float32')\n",
    "    # Normalization\n",
    "    x /= 255\n",
    "    y = keras.utils.to_categorical(Y, NUM_CLASSES)\n",
    "    return (x, y)"
   ]
  },
  {
   "cell_type": "code",
   "execution_count": 29,
   "metadata": {
    "collapsed": true
   },
   "outputs": [],
   "source": [
    "def train(model, X, y, X_test=None, y_test=None):\n",
    "    x_train, y_train = prepare_samples(X, y)\n",
    "    x_val = None\n",
    "    y_val = None\n",
    "    if X_test is not None and y_test is not None:\n",
    "        x_val, y_val = prepare_samples(X_test, y_test)\n",
    "    history = AccuracyHistory()\n",
    "    model.fit(\n",
    "        x_train,\n",
    "        y_train,\n",
    "        batch_size=BATCH_SIZE,\n",
    "        epochs=EPOCHS,\n",
    "        validation_data=(x_val, y_val),\n",
    "        callbacks=[history]\n",
    "    )\n",
    "    return history"
   ]
  },
  {
   "cell_type": "code",
   "execution_count": 30,
   "metadata": {
    "collapsed": true
   },
   "outputs": [],
   "source": [
    "def score(model, X, y):\n",
    "    x_test, y_test = prepare_samples(X, y)\n",
    "    return model.evaluate(x_test, y_test, verbose=0)"
   ]
  },
  {
   "cell_type": "code",
   "execution_count": 115,
   "metadata": {},
   "outputs": [
    {
     "name": "stdout",
     "output_type": "stream",
     "text": [
      "train_data shape:  (10360, 227, 227)\n",
      "test_data shape:  (740, 227, 227)\n"
     ]
    }
   ],
   "source": [
    "from data_config import DataConfig\n",
    "\n",
    "data = DataConfig('data.config')\n",
    "train_data, train_labels = data.get_train()\n",
    "test_data, test_labels = data.get_test()\n",
    "test_labels = test_labels[:, 0].astype(int).reshape(-1,1)\n",
    "train_labels = train_labels[:, 0].astype(int).reshape(-1,1)\n",
    "print('train_data shape: ', train_data.shape)\n",
    "print('test_data shape: ', test_data.shape)"
   ]
  },
  {
   "cell_type": "code",
   "execution_count": 32,
   "metadata": {},
   "outputs": [
    {
     "name": "stdout",
     "output_type": "stream",
     "text": [
      "Creating CNN model...\n"
     ]
    }
   ],
   "source": [
    "print('Creating CNN model...')\n",
    "chess_model = make_model()"
   ]
  },
  {
   "cell_type": "code",
   "execution_count": null,
   "metadata": {},
   "outputs": [],
   "source": [
    "print('Training...')\n",
    "history = train(chess_model, train_data, train_labels, test_data, test_labels)\n",
    "print('Evaluating...')\n",
    "score = score(chess_model, test_data, test_labels)\n",
    "print('Test loss:', score[0])\n",
    "print('Test accuracy:', score[1])\n",
    "print('Done.')"
   ]
  },
  {
   "cell_type": "markdown",
   "metadata": {},
   "source": [
    "Amostragem aleatória"
   ]
  },
  {
   "cell_type": "code",
   "execution_count": 101,
   "metadata": {
    "collapsed": true
   },
   "outputs": [],
   "source": [
    "def randomsampling(X,Y):\n",
    "    size = X.shape[0]\n",
    "    idx = np.random.choice(np.arange(X.shape[0]), X.shape[0], replace=False)\n",
    "    x_sample = X[idx]\n",
    "    y_sample = Y[idx]\n",
    "    return x_sample, y_sample"
   ]
  },
  {
   "cell_type": "code",
   "execution_count": 121,
   "metadata": {},
   "outputs": [],
   "source": [
    "X = train_data\n",
    "Y = train_labels\n",
    "size = train_data.shape[0]\n",
    "idx = np.random.choice(np.arange(size), size, replace=False)\n",
    "x_sample = X[idx]\n",
    "y_sample = Y[idx]\n"
   ]
  },
  {
   "cell_type": "code",
   "execution_count": 100,
   "metadata": {
    "collapsed": true
   },
   "outputs": [],
   "source": [
    "X,Y = randomsampling(train_data,train_labels)"
   ]
  },
  {
   "cell_type": "code",
   "execution_count": 66,
   "metadata": {},
   "outputs": [],
   "source": [
    "def conta_label(Y,label):\n",
    "    for i in range(len(Y)):\n",
    "        count=0\n",
    "        if Y[i] == label:\n",
    "            count+=1\n",
    "    return count\n",
    "            "
   ]
  },
  {
   "cell_type": "code",
   "execution_count": null,
   "metadata": {},
   "outputs": [],
   "source": [
    "conta_label(Y,3)"
   ]
  },
  {
   "cell_type": "code",
   "execution_count": null,
   "metadata": {
    "collapsed": true
   },
   "outputs": [],
   "source": []
  }
 ],
 "metadata": {
  "kernelspec": {
   "display_name": "Python 3",
   "language": "python",
   "name": "python3"
  },
  "language_info": {
   "codemirror_mode": {
    "name": "ipython",
    "version": 3
   },
   "file_extension": ".py",
   "mimetype": "text/x-python",
   "name": "python",
   "nbconvert_exporter": "python",
   "pygments_lexer": "ipython3",
   "version": "3.6.3"
  }
 },
 "nbformat": 4,
 "nbformat_minor": 2
}
