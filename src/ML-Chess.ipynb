{
 "cells": [
  {
   "cell_type": "markdown",
   "metadata": {},
   "source": [
    "Unversidade Federal de Santa Catarina  \n",
    "Departamento de Engenharia Elétrica  \n",
    "EEL7514/EEL7513 - Introdução ao Aprendizado de Máquina\n",
    "\n",
    "# Rede Convolucional para Reconhecimento de Peças de Xadrez\n",
    "\n",
    "**Alunos**\n",
    "> Anderson R. Livramento  \n",
    "> João Vitor Laitano\n",
    "\n",
    "# Introdução\n",
    "\n",
    "????\n"
   ]
  },
  {
   "cell_type": "markdown",
   "metadata": {},
   "source": [
    "# Arquitetura\n",
    "\n",
    "O projeto foi fortemente baseado [neste tutorial](http://adventuresinmachinelearning.com/keras-tutorial-cnn-11-lines/) sobre **Redes Convolucionais** utilizando o [Keras](https://keras.io/), e, portanto, inicialmente a arquitetura utilizada foi a mesma sugerida no post:\n",
    "\n",
    "![CNN](images/CNN-example-block-diagram.jpg)\n",
    "\n",
    "Com algumas pequenas modificações. No nosso modelo a entrada é **227x227** e o tamanho dos filtros nas camadas convolucionais foi alterado para **7x7**."
   ]
  },
  {
   "cell_type": "code",
   "execution_count": 1,
   "metadata": {},
   "outputs": [
    {
     "name": "stderr",
     "output_type": "stream",
     "text": [
      "Using TensorFlow backend.\n"
     ]
    }
   ],
   "source": [
    "%matplotlib inline\n",
    "import numpy as np\n",
    "import chess_nn as cnn\n",
    "\n",
    "from data_config import DataConfig\n"
   ]
  },
  {
   "cell_type": "markdown",
   "metadata": {},
   "source": [
    "Conjuntos de dados:"
   ]
  },
  {
   "cell_type": "code",
   "execution_count": 3,
   "metadata": {},
   "outputs": [],
   "source": [
    "data = DataConfig('data.config')"
   ]
  },
  {
   "cell_type": "code",
   "execution_count": 4,
   "metadata": {},
   "outputs": [],
   "source": [
    "train_data, train_labels = data.get_train()\n",
    "test_data, test_labels = data.get_test()"
   ]
  },
  {
   "cell_type": "code",
   "execution_count": 5,
   "metadata": {},
   "outputs": [],
   "source": [
    "test_labels = test_labels[:, 0].astype(int).reshape(-1,1)\n",
    "train_labels = train_labels[:, 0].astype(int).reshape(-1,1)"
   ]
  },
  {
   "cell_type": "code",
   "execution_count": 6,
   "metadata": {},
   "outputs": [
    {
     "name": "stdout",
     "output_type": "stream",
     "text": [
      "(10360, 227, 227)\n",
      "(10360, 1)\n",
      "(740, 227, 227)\n",
      "(740, 1)\n"
     ]
    }
   ],
   "source": [
    "print(train_data.shape)\n",
    "print(train_labels.shape)\n",
    "print(test_data.shape)\n",
    "print(test_labels.shape)"
   ]
  },
  {
   "cell_type": "code",
   "execution_count": 7,
   "metadata": {},
   "outputs": [
    {
     "name": "stdout",
     "output_type": "stream",
     "text": [
      "(500, 227, 227)\n",
      "(500,)\n"
     ]
    }
   ],
   "source": [
    "x_train, y_train = cnn.random_sampling(train_data, train_labels, 500)\n",
    "print(x_train.shape)\n",
    "print(y_train.shape)"
   ]
  },
  {
   "cell_type": "code",
   "execution_count": 10,
   "metadata": {},
   "outputs": [
    {
     "name": "stdout",
     "output_type": "stream",
     "text": [
      "(500, 1)\n"
     ]
    }
   ],
   "source": [
    "y_train = y_train.reshape(-1, 1)\n",
    "print(y_train.shape)"
   ]
  },
  {
   "cell_type": "markdown",
   "metadata": {},
   "source": [
    "Montando a arquitetura da rede:"
   ]
  },
  {
   "cell_type": "code",
   "execution_count": 11,
   "metadata": {},
   "outputs": [],
   "source": [
    "cnn_model = cnn.make_model()"
   ]
  },
  {
   "cell_type": "markdown",
   "metadata": {},
   "source": [
    "Treinando a rede (isso vai levar algum tempo):"
   ]
  },
  {
   "cell_type": "code",
   "execution_count": null,
   "metadata": {},
   "outputs": [],
   "source": [
    "history = cnn.train(cnn_model, x_train, y_train, test_data, test_labels)"
   ]
  },
  {
   "cell_type": "markdown",
   "metadata": {},
   "source": [
    "#### É necessário muito recurso computacional\n",
    "\n",
    "Saída do treinamento, usando **500** amostras, rodando em um PC AMD Ryzen 7, 8GB RAM:\n",
    "\n",
    "![500 samples](images/500_samples_stdout.png)\n",
    "\n",
    "Tempo total: **1 hora**."
   ]
  },
  {
   "cell_type": "markdown",
   "metadata": {},
   "source": [
    "Testando:"
   ]
  },
  {
   "cell_type": "code",
   "execution_count": null,
   "metadata": {},
   "outputs": [],
   "source": [
    "score = cnn.score(cnn.model, test_data, test_labels)\n",
    "print('Test loss:', score[0])\n",
    "print('Test accuracy:', score[1])"
   ]
  },
  {
   "cell_type": "markdown",
   "metadata": {},
   "source": [
    "Histórico do treinamento:"
   ]
  },
  {
   "cell_type": "code",
   "execution_count": null,
   "metadata": {},
   "outputs": [],
   "source": [
    "plt.plot(range(1, 11), history.acc)\n",
    "plt.xlabel('Épocas')\n",
    "plt.ylabel('Acurácia')"
   ]
  }
 ],
 "metadata": {
  "kernelspec": {
   "display_name": "Python 3",
   "language": "python",
   "name": "python3"
  },
  "language_info": {
   "codemirror_mode": {
    "name": "ipython",
    "version": 3
   },
   "file_extension": ".py",
   "mimetype": "text/x-python",
   "name": "python",
   "nbconvert_exporter": "python",
   "pygments_lexer": "ipython3",
   "version": "3.5.3"
  }
 },
 "nbformat": 4,
 "nbformat_minor": 2
}
