{
 "cells": [
  {
   "cell_type": "markdown",
   "metadata": {},
   "source": [
    "# Criando o arquivo HDF5\n",
    "\n",
    "Esse notebook assume que ja foi feito o download do arquivo [Chess ID Public Data](https://www.dropbox.com/s/618l4ddoykotmru/Chess%20ID%20Public%20Data.zip?dl=0) e que o mesmo foi descompactado na pasta `build/imageset` e portanto existe a pasta \"**build/imageset/Chess ID Public Data**\" a partir do raiz deste notebook."
   ]
  },
  {
   "cell_type": "code",
   "execution_count": 1,
   "metadata": {},
   "outputs": [],
   "source": [
    "import build_dataset"
   ]
  },
  {
   "cell_type": "code",
   "execution_count": 2,
   "metadata": {},
   "outputs": [
    {
     "name": "stdout",
     "output_type": "stream",
     "text": [
      " -> Imageset path:  build/imageset/Chess ID Public Data\n",
      "  |-> Creating HDF5 dataset file...\n",
      "    |->  output_train  ::  chess_imgs_train  (10360 samples)\n",
      "    |->  output_test  ::  chess_imgs_test  (740 samples)\n",
      "  |-> HDF5 file  data/chess_dataset.h5  created.\n"
     ]
    }
   ],
   "source": [
    "# Se estiver rodando pela primeira vez, setar o tests_rotate=True\n",
    "build_dataset.main('build/imageset/Chess ID Public Data', tests_rotate=False)"
   ]
  }
 ],
 "metadata": {
  "kernelspec": {
   "display_name": "Python 3",
   "language": "python",
   "name": "python3"
  },
  "language_info": {
   "codemirror_mode": {
    "name": "ipython",
    "version": 3
   },
   "file_extension": ".py",
   "mimetype": "text/x-python",
   "name": "python",
   "nbconvert_exporter": "python",
   "pygments_lexer": "ipython3",
   "version": "3.6.5"
  }
 },
 "nbformat": 4,
 "nbformat_minor": 2
}
